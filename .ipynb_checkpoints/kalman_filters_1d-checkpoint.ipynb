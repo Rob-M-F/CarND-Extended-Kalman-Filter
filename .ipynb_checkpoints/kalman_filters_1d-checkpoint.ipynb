{
 "cells": [
  {
   "cell_type": "code",
   "execution_count": 1,
   "metadata": {},
   "outputs": [
    {
     "name": "stdout",
     "output_type": "stream",
     "text": [
      "Check measure: (12.4, 1.6) : [12.4, 1.6]\n",
      "Check measure: (11.0, 2.0) : [11.0, 2.0]\n"
     ]
    }
   ],
   "source": [
    "def kalman_1d_measure(mean_a, var_a, mean_b, var_b): # kalman update\n",
    "    new_mean = (1/(var_a+var_b)*((mean_a*var_b) + (mean_b*var_a)))\n",
    "    new_var = 1/((1/var_a) + (1/var_b))\n",
    "    return [new_mean, new_var]\n",
    "\n",
    "print(\"Check measure: (12.4, 1.6) :\", kalman_1d_measure(10., 8., 13., 2.)) # returns [12.4, 1.6]\n",
    "print(\"Check measure: (11.0, 2.0) :\", kalman_1d_measure(10., 4., 12., 4.)) # returns [11.0, 2.0]"
   ]
  },
  {
   "cell_type": "code",
   "execution_count": 2,
   "metadata": {},
   "outputs": [
    {
     "name": "stdout",
     "output_type": "stream",
     "text": [
      "Check motion: (18.0, 10.0) : [18.0, 10.0]\n"
     ]
    }
   ],
   "source": [
    "def kalman_1d_motion(mean, var, move, error): # kalman predict\n",
    "    new_mean = mean + move\n",
    "    new_var = var + error\n",
    "    return [new_mean, new_var]\n",
    "\n",
    "print(\"Check motion: (18.0, 10.0) :\", kalman_1d_motion(8., 4., 10., 6.)) # returns [11.0, 2.0]"
   ]
  },
  {
   "cell_type": "code",
   "execution_count": 3,
   "metadata": {},
   "outputs": [
    {
     "name": "stdout",
     "output_type": "stream",
     "text": [
      "0.0 1\n",
      "1.0 0.8\n",
      "2.0 2.8\n",
      "3.6470588235294117 1.6470588235294117\n",
      "4.647058823529411 3.6470588235294117\n",
      "5.769230769230768 1.9076923076923078\n",
      "7.769230769230768 3.907692307692308\n",
      "8.377431906614785 1.9766536964980546\n",
      "9.377431906614785 3.9766536964980546\n",
      "9.68780487804878 1.9941463414634149\n",
      "10.68780487804878 3.9941463414634146\n"
     ]
    }
   ],
   "source": [
    "measurements = [5., 6., 7., 9., 10.]\n",
    "motion = [1., 1., 2., 1., 1.]\n",
    "measurement_sig = 4.\n",
    "motion_sig = 2.\n",
    "mu = 0.\n",
    "sig = 1\n",
    "print(mu, sig)\n",
    "for s, m in zip(measurements, motion):\n",
    "    mu, sig = kalman_1d_measure(mu, sig, s, measurement_sig)\n",
    "    print(mu, sig)\n",
    "    mu, sig = kalman_1d_motion(mu, sig, m, motion_sig)\n",
    "    print(mu, sig)"
   ]
  },
  {
   "cell_type": "code",
   "execution_count": null,
   "metadata": {
    "collapsed": true
   },
   "outputs": [],
   "source": [
    "# new_location = location * velocity\n",
    "# variables of a kalman filter:\n",
    "#  observables:\n",
    "#    momentary location @ a specific time\n",
    "#  hidden:\n",
    "#    velocity"
   ]
  },
  {
   "cell_type": "markdown",
   "metadata": {},
   "source": [
    "Designing a kalman filter:\n",
    "  new_location = old_location + (velocity * time_delta)\n",
    "\n",
    "old_state = [old_location, old_velocity]\n",
    "F = [[1, 1], [0, 1]]\n",
    "[new_location, new_velocity] = F * old_state\n",
    "h = [1, 0]\n",
    "z = h * [new_location, new_velocity]\n",
    "\n",
    "KALMAN FILTER UPDATE EQUATIONS\n",
    "x = best_estimate\n",
    "P = uncertainty covariance\n",
    "F = state transition matrix([[1, 1], [0, 1]])\n",
    "u = motion vector\n",
    "z = measurement\n",
    "H = measurement function\n",
    "R = measurement noise\n",
    "I = identity matrix\n",
    "\n",
    "PREDICTION\n",
    "x_prime = F * x + u\n",
    "P_prime = F * P * F_transpose\n",
    "\n",
    "MEASUREMENT\n",
    "y = z - H * x\n",
    "S = H * P * H_transpose + R\n",
    "K = P * H_transpose * S^(-1)\n",
    "x_prime = x + (K * y)\n",
    "P_prime = (I - K * H) * P\n"
   ]
  },
  {
   "cell_type": "code",
   "execution_count": 5,
   "metadata": {},
   "outputs": [
    {
     "ename": "SyntaxError",
     "evalue": "invalid syntax (<ipython-input-5-908b08dcd65a>, line 21)",
     "output_type": "error",
     "traceback": [
      "\u001b[1;36m  File \u001b[1;32m\"<ipython-input-5-908b08dcd65a>\"\u001b[1;36m, line \u001b[1;32m21\u001b[0m\n\u001b[1;33m    raise ValueError, \"Invalid size of matrix\"\u001b[0m\n\u001b[1;37m                    ^\u001b[0m\n\u001b[1;31mSyntaxError\u001b[0m\u001b[1;31m:\u001b[0m invalid syntax\n"
     ]
    }
   ],
   "source": []
  },
  {
   "cell_type": "code",
   "execution_count": null,
   "metadata": {
    "collapsed": true
   },
   "outputs": [],
   "source": []
  }
 ],
 "metadata": {
  "kernelspec": {
   "display_name": "Python 3",
   "language": "python",
   "name": "python3"
  },
  "language_info": {
   "codemirror_mode": {
    "name": "ipython",
    "version": 3
   },
   "file_extension": ".py",
   "mimetype": "text/x-python",
   "name": "python",
   "nbconvert_exporter": "python",
   "pygments_lexer": "ipython3",
   "version": "3.5.4"
  }
 },
 "nbformat": 4,
 "nbformat_minor": 2
}
